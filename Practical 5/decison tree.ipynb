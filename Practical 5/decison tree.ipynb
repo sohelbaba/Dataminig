{
 "cells": [
  {
   "cell_type": "code",
   "execution_count": 119,
   "metadata": {},
   "outputs": [
    {
     "ename": "ModuleNotFoundError",
     "evalue": "No module named 'graphviz'",
     "output_type": "error",
     "traceback": [
      "\u001b[1;31m---------------------------------------------------------------------------\u001b[0m",
      "\u001b[1;31mModuleNotFoundError\u001b[0m                       Traceback (most recent call last)",
      "\u001b[1;32m<ipython-input-119-8f77a79d2aff>\u001b[0m in \u001b[0;36m<module>\u001b[1;34m\u001b[0m\n\u001b[0;32m     15\u001b[0m \u001b[1;32mfrom\u001b[0m \u001b[0msklearn\u001b[0m \u001b[1;32mimport\u001b[0m \u001b[0mpreprocessing\u001b[0m\u001b[1;33m\u001b[0m\u001b[1;33m\u001b[0m\u001b[0m\n\u001b[0;32m     16\u001b[0m \u001b[1;32mfrom\u001b[0m \u001b[0mIPython\u001b[0m\u001b[1;33m.\u001b[0m\u001b[0mdisplay\u001b[0m \u001b[1;32mimport\u001b[0m \u001b[0mSVG\u001b[0m\u001b[1;33m\u001b[0m\u001b[1;33m\u001b[0m\u001b[0m\n\u001b[1;32m---> 17\u001b[1;33m \u001b[1;32mfrom\u001b[0m \u001b[0mgraphviz\u001b[0m \u001b[1;32mimport\u001b[0m \u001b[0mSource\u001b[0m\u001b[1;33m\u001b[0m\u001b[1;33m\u001b[0m\u001b[0m\n\u001b[0m",
      "\u001b[1;31mModuleNotFoundError\u001b[0m: No module named 'graphviz'"
     ]
    }
   ],
   "source": [
    "#import statement\n",
    "import pandas as pd\n",
    "from sklearn.metrics import accuracy_score\n",
    "from sklearn.model_selection import train_test_split\n",
    "from sklearn.tree import DecisionTreeClassifier\n",
    "#import a dataset from sklearn\n",
    "from sklearn.datasets import load_breast_cancer\n",
    "#id3\n",
    "from id3 import Id3Estimator\n",
    "from id3 import export_graphviz\n",
    "import pydotplus\n",
    "from IPython.display import Image  \n",
    "from sklearn.tree import export_graphviz\n",
    "from sklearn import tree\n",
    "from sklearn import preprocessing\n",
    "from IPython.display import SVG\n",
    "from graphviz import Source"
   ]
  },
  {
   "cell_type": "code",
   "execution_count": 118,
   "metadata": {},
   "outputs": [],
   "source": [
    "#import data from csv file \n",
    "weather_data = pd.read_csv('weather.csv')\n",
    "#print(data)"
   ]
  },
  {
   "cell_type": "code",
   "execution_count": 76,
   "metadata": {},
   "outputs": [
    {
     "data": {
      "text/plain": [
       "Index(['outlook', 'temperature', 'humidity', 'windy', 'play'], dtype='object')"
      ]
     },
     "execution_count": 76,
     "metadata": {},
     "output_type": "execute_result"
    }
   ],
   "source": [
    "weather_data.columns"
   ]
  },
  {
   "cell_type": "code",
   "execution_count": 121,
   "metadata": {},
   "outputs": [
    {
     "name": "stdout",
     "output_type": "stream",
     "text": [
      "None\n"
     ]
    },
    {
     "data": {
      "text/plain": [
       "[['overcast', 'hot', 'high', 'FALSE'],\n",
       " ['overcast', 'cool', 'normal', 'TRUE'],\n",
       " ['overcast', 'mild', 'high', 'TRUE'],\n",
       " ['overcast', 'hot', 'normal', 'FALSE'],\n",
       " ['rainy', 'mild', 'high', 'FALSE'],\n",
       " ['rainy', 'cool', 'normal', 'FALSE'],\n",
       " ['rainy', 'cool', 'normal', 'TRUE'],\n",
       " ['rainy', 'mild', 'normal', 'FALSE'],\n",
       " ['rainy', 'mild', 'high', 'TRUE'],\n",
       " ['sunny', 'hot', 'high', 'FALSE'],\n",
       " ['sunny', 'hot', 'high', 'TRUE'],\n",
       " ['sunny', 'mild', 'high', 'FALSE'],\n",
       " ['sunny', 'cool', 'normal', 'FALSE'],\n",
       " ['sunny', 'mild', 'normal', 'TRUE']]"
      ]
     },
     "execution_count": 121,
     "metadata": {},
     "output_type": "execute_result"
    }
   ],
   "source": [
    "import csv\n",
    "\n",
    "with open('weather.csv', newline='') as f:\n",
    "    reader = csv.reader(f)\n",
    "    weather_data = list(reader)\n",
    "\n",
    "target =[]\n",
    "for row in weather_data:\n",
    "    target.append(row[4])\n",
    "    del(row[4])\n",
    "       \n",
    "target.remove(target[0])\n",
    "print(weather_data.remove(weather_data[0]))\n",
    "weather_data\n",
    "#target"
   ]
  },
  {
   "cell_type": "code",
   "execution_count": 124,
   "metadata": {},
   "outputs": [],
   "source": [
    "le = preprocessing.LabelEncoder()\n",
    "data = []\n",
    "for i in range(0,14):\n",
    "    le.fit(weather_data[i])\n",
    "    data.append(le.transform(weather_data[i]))\n",
    "\n",
    "target =[1,1,1,1,1,1,0,1,0,0,0,0,1,1]"
   ]
  },
  {
   "cell_type": "code",
   "execution_count": 135,
   "metadata": {},
   "outputs": [
    {
     "data": {
      "text/plain": [
       "array([0])"
      ]
     },
     "execution_count": 135,
     "metadata": {},
     "output_type": "execute_result"
    }
   ],
   "source": [
    "data\n",
    "clf = tree.DecisionTreeClassifier()\n",
    "clf = clf.fit(data,target)\n",
    "clf.predict([[3, 2, 1, 0]])\n"
   ]
  },
  {
   "cell_type": "code",
   "execution_count": 131,
   "metadata": {},
   "outputs": [
    {
     "name": "stdout",
     "output_type": "stream",
     "text": [
      "[array([3, 2, 1, 0], dtype=int64), array([3, 1, 2, 0], dtype=int64), array([3, 2, 1, 0], dtype=int64), array([3, 1, 2, 0], dtype=int64), array([3, 2, 1, 0], dtype=int64), array([3, 1, 2, 0], dtype=int64), array([3, 1, 2, 0], dtype=int64), array([3, 1, 2, 0], dtype=int64), array([3, 2, 1, 0], dtype=int64), array([3, 2, 1, 0], dtype=int64), array([3, 2, 1, 0], dtype=int64), array([3, 2, 1, 0], dtype=int64), array([3, 1, 2, 0], dtype=int64), array([3, 1, 2, 0], dtype=int64)]\n"
     ]
    }
   ],
   "source": [
    "print(data)"
   ]
  },
  {
   "cell_type": "code",
   "execution_count": null,
   "metadata": {},
   "outputs": [],
   "source": []
  }
 ],
 "metadata": {
  "kernelspec": {
   "display_name": "Python 3",
   "language": "python",
   "name": "python3"
  },
  "language_info": {
   "codemirror_mode": {
    "name": "ipython",
    "version": 3
   },
   "file_extension": ".py",
   "mimetype": "text/x-python",
   "name": "python",
   "nbconvert_exporter": "python",
   "pygments_lexer": "ipython3",
   "version": "3.7.1"
  }
 },
 "nbformat": 4,
 "nbformat_minor": 2
}
