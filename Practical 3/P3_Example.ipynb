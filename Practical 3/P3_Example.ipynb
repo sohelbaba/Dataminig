{
 "cells": [
  {
   "cell_type": "code",
   "execution_count": 1,
   "metadata": {},
   "outputs": [],
   "source": [
    "import pandas as pd\n",
    "import seaborn as sns  #use to draw the boxplot\n",
    "import matplotlib.pyplot as plt"
   ]
  },
  {
   "cell_type": "code",
   "execution_count": 2,
   "metadata": {},
   "outputs": [
    {
     "name": "stdout",
     "output_type": "stream",
     "text": [
      "[4, 55, 21, 33, 5, 92, 33, 5, 91, 33, 9, 29, 99, 105, 39, 45, 6, 62, 65, 25, 10, 73, 85, 11, 79, 20, 56, 45, 21, 8, 65, 70, 30]\n"
     ]
    }
   ],
   "source": [
    "df = [4,55,21,33,5,92,33,5,91,33,9,29,99,105,39,45,6,62,65,25,10,73,85,11,79,20,56,45,21,8,65,70,30]\n",
    "print(df)"
   ]
  },
  {
   "cell_type": "code",
   "execution_count": 11,
   "metadata": {},
   "outputs": [
    {
     "name": "stdout",
     "output_type": "stream",
     "text": [
      "Minimum ->   4\n",
      "Maximum ->   105\n"
     ]
    }
   ],
   "source": [
    "print(\"Minimum ->  \",min(df))\n",
    "print(\"Maximum ->  \",max(df))\n",
    "N = len(df)\n"
   ]
  },
  {
   "cell_type": "code",
   "execution_count": 15,
   "metadata": {},
   "outputs": [
    {
     "name": "stdout",
     "output_type": "stream",
     "text": [
      "Q2 - >  8.5\n",
      "Q2 - >  17.0\n",
      "Q3 - >  25.5\n"
     ]
    }
   ],
   "source": [
    "Q1 = (N + 1) * 1 / 4\n",
    "print(\"Q2 - > \",Q1)\n",
    "Q2 = (N + 1) * 2 / 4\n",
    "print(\"Q2 - > \",Q2)\n",
    "Q3 = (N + 1) * 3 / 4\n",
    "print(\"Q3 - > \",Q3)\n",
    "\n",
    "#sns.boxplot(data=df,color=\"orange\")"
   ]
  },
  {
   "cell_type": "code",
   "execution_count": 35,
   "metadata": {},
   "outputs": [
    {
     "data": {
      "text/plain": [
       "<matplotlib.axes._subplots.AxesSubplot at 0x2032240e198>"
      ]
     },
     "execution_count": 35,
     "metadata": {},
     "output_type": "execute_result"
    },
    {
     "data": {
      "image/png": "[encoded data removed]",
      "text/plain": [
       "<Figure size 432x288 with 1 Axes>"
      ]
     },
     "metadata": {
      "needs_background": "light"
     },
     "output_type": "display_data"
    }
   ],
   "source": [
    "#plt.boxplot(df)\n",
    "#plt.show()\n",
    "sns.boxplot(data=df,color=\"lightgreen\")"
   ]
  },
  {
   "cell_type": "code",
   "execution_count": 19,
   "metadata": {},
   "outputs": [
    {
     "data": {
      "text/plain": [
       "{'whiskers': [<matplotlib.lines.Line2D at 0x20321f733c8>,\n",
       "  <matplotlib.lines.Line2D at 0x20321f73710>],\n",
       " 'caps': [<matplotlib.lines.Line2D at 0x20321f73a58>,\n",
       "  <matplotlib.lines.Line2D at 0x20321f73da0>],\n",
       " 'boxes': [<matplotlib.lines.Line2D at 0x20321f68f98>],\n",
       " 'medians': [<matplotlib.lines.Line2D at 0x20321f73e80>],\n",
       " 'fliers': [<matplotlib.lines.Line2D at 0x20321f7c470>],\n",
       " 'means': []}"
      ]
     },
     "execution_count": 19,
     "metadata": {},
     "output_type": "execute_result"
    },
    {
     "data": {
      "image/png": "[encoded data removed]",
      "text/plain": [
       "<Figure size 432x288 with 1 Axes>"
      ]
     },
     "metadata": {
      "needs_background": "light"
     },
     "output_type": "display_data"
    }
   ],
   "source": [
    "fig = plt.figure()\n",
    "ax = fig.add_subplot(111)\n",
    "ax.boxplot(df)\n"
   ]
  },
  {
   "cell_type": "code",
   "execution_count": 33,
   "metadata": {},
   "outputs": [
    {
     "data": {
      "text/plain": [
       "<matplotlib.axes._subplots.AxesSubplot at 0x203225b6ef0>"
      ]
     },
     "execution_count": 33,
     "metadata": {},
     "output_type": "execute_result"
    },
    {
     "data": {
      "image/png": "[encoded data removed]",
      "text/plain": [
       "<Figure size 432x288 with 1 Axes>"
      ]
     },
     "metadata": {
      "needs_background": "light"
     },
     "output_type": "display_data"
    }
   ],
   "source": [
    "sns.swarmplot(data=df, color=\".25\")\n",
    "sns.boxplot(data=df,color=\"orange\")"
   ]
  },
  {
   "cell_type": "code",
   "execution_count": null,
   "metadata": {},
   "outputs": [],
   "source": []
  }
 ],
 "metadata": {
  "kernelspec": {
   "display_name": "Python 3",
   "language": "python",
   "name": "python3"
  },
  "language_info": {
   "codemirror_mode": {
    "name": "ipython",
    "version": 3
   },
   "file_extension": ".py",
   "mimetype": "text/x-python",
   "name": "python",
   "nbconvert_exporter": "python",
   "pygments_lexer": "ipython3",
   "version": "3.7.1"
  }
 },
 "nbformat": 4,
 "nbformat_minor": 2
}
