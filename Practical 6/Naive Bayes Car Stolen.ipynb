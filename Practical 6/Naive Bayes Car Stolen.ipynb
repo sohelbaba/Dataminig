{
 "cells": [
  {
   "cell_type": "code",
   "execution_count": 3,
   "metadata": {},
   "outputs": [],
   "source": [
    "# Import LabelEncoder\n",
    "from sklearn import preprocessing\n",
    "#creating labelEncoder\n",
    "le = preprocessing.LabelEncoder()\n",
    "# Converting string labels into numbers.\n",
    "#Import Gaussian Naive Bayes model\n",
    "from sklearn.naive_bayes import GaussianNB"
   ]
  },
  {
   "cell_type": "code",
   "execution_count": 4,
   "metadata": {},
   "outputs": [],
   "source": [
    "color = ['Red','Red','Red','Yellow','Yellow','Yellow','Yellow','Yellow','Red','Red']\n",
    "Type = ['Sports','Sports','Sports','Sports','Sports','Suv','Suv','Suv','Suv','Sports']\n",
    "origin = ['Domestic','Domestic','Domestic','Domestic','Imported','Imported','Imported','Domestic','Imported','Imported']\n",
    "stolen = ['Yes','No','Yes','No','Yes','No','Yes','No','No','Yes']"
   ]
  },
  {
   "cell_type": "code",
   "execution_count": 12,
   "metadata": {},
   "outputs": [
    {
     "name": "stdout",
     "output_type": "stream",
     "text": [
      "[0 0 0 1 1 1 1 1 0 0]\n",
      "[0 0 0 0 0 1 1 1 1 0]\n",
      "[0 0 0 0 1 1 1 0 1 1]\n",
      "[1 0 1 0 1 0 1 0 0 1]\n"
     ]
    }
   ],
   "source": [
    "color_encoded=le.fit_transform(color)\n",
    "Type_encoded=le.fit_transform(Type)\n",
    "origin_encoded=le.fit_transform(origin)\n",
    "stolen_encoded=le.fit_transform(stolen)\n",
    "\n",
    "print(color_encoded)\n",
    "print(Type_encoded)\n",
    "print(origin_encoded)\n",
    "print(stolen_encoded)"
   ]
  },
  {
   "cell_type": "code",
   "execution_count": 15,
   "metadata": {},
   "outputs": [
    {
     "data": {
      "text/plain": [
       "GaussianNB(priors=None, var_smoothing=1e-09)"
      ]
     },
     "execution_count": 15,
     "metadata": {},
     "output_type": "execute_result"
    }
   ],
   "source": [
    "from sklearn.naive_bayes import GaussianNB\n",
    "data = list(zip(color_encoded,Type_encoded,origin_encoded))\n",
    "#Create a Gaussian Classifier\n",
    "model = GaussianNB()\n",
    "\n",
    "# Train the model using the training sets\n",
    "model.fit(data,stolen_encoded)\n"
   ]
  },
  {
   "cell_type": "code",
   "execution_count": 16,
   "metadata": {},
   "outputs": [
    {
     "data": {
      "text/plain": [
       "[(0, 0, 0),\n",
       " (0, 0, 0),\n",
       " (0, 0, 0),\n",
       " (1, 0, 0),\n",
       " (1, 0, 1),\n",
       " (1, 1, 1),\n",
       " (1, 1, 1),\n",
       " (1, 1, 0),\n",
       " (0, 1, 1),\n",
       " (0, 0, 1)]"
      ]
     },
     "execution_count": 16,
     "metadata": {},
     "output_type": "execute_result"
    }
   ],
   "source": [
    "data"
   ]
  },
  {
   "cell_type": "code",
   "execution_count": 19,
   "metadata": {},
   "outputs": [
    {
     "name": "stdout",
     "output_type": "stream",
     "text": [
      "Prediction :  ['Yes']\n"
     ]
    }
   ],
   "source": [
    "predicted= model.predict([[0,0,0]]) # 0:Overcast, 2:Mild\n",
    "print(\"Prediction : \", str(le.inverse_transform(predicted)))"
   ]
  },
  {
   "cell_type": "code",
   "execution_count": null,
   "metadata": {},
   "outputs": [],
   "source": []
  }
 ],
 "metadata": {
  "kernelspec": {
   "display_name": "Python 3",
   "language": "python",
   "name": "python3"
  },
  "language_info": {
   "codemirror_mode": {
    "name": "ipython",
    "version": 3
   },
   "file_extension": ".py",
   "mimetype": "text/x-python",
   "name": "python",
   "nbconvert_exporter": "python",
   "pygments_lexer": "ipython3",
   "version": "3.7.1"
  }
 },
 "nbformat": 4,
 "nbformat_minor": 2
}
