{
 "cells": [
  {
   "cell_type": "code",
   "execution_count": 68,
   "metadata": {},
   "outputs": [],
   "source": [
    "# Python3 program to demonstrate \n",
    "# the use of sample() function . \n",
    "\n",
    "# import random \n",
    "from random import sample \n",
    "import random \n",
    "import pandas as pd\n",
    "import matplotlib.pyplot as plt\n",
    "import seaborn as sns\n",
    "from csv import DictReader"
   ]
  },
  {
   "cell_type": "code",
   "execution_count": 69,
   "metadata": {},
   "outputs": [
    {
     "name": "stdout",
     "output_type": "stream",
     "text": [
      "random sample without replacement [5, 2, 1]\n"
     ]
    }
   ],
   "source": [
    "\n",
    "# Prints list of random items of given length \n",
    "list1 = [1, 2, 3, 4, 5] \n",
    "\n",
    "print(\"random sample without replacement\",sample(list1,3)) \n"
   ]
  },
  {
   "cell_type": "code",
   "execution_count": 70,
   "metadata": {},
   "outputs": [
    {
     "name": "stdout",
     "output_type": "stream",
     "text": [
      "random sample with replacement [5, 1, 2]\n"
     ]
    }
   ],
   "source": [
    "print(\"random sample with replacement\", random.choices(list1, k=3))"
   ]
  },
  {
   "cell_type": "code",
   "execution_count": 86,
   "metadata": {},
   "outputs": [
    {
     "name": "stdout",
     "output_type": "stream",
     "text": [
      "Age 18\n",
      "[18, 18, 18, 18, 18, 18, 18, 18, 18, 18, 18, 18, 18, 18, 18, 18, 18, 18, 18, 18, 18, 18, 18, 18, 18, 18, 18, 18, 18, 18, 18, 18, 18, 18, 18, 18, 18, 18, 18, 18, 18, 18, 18, 18, 18, 18, 18, 18, 18, 18, 18, 18, 18, 18, 18, 18, 18, 18, 18, 18, 18, 18, 18, 18, 18, 18, 18, 18, 18, 18, 18, 18, 18, 18, 18, 18, 18, 18, 18, 18, 18, 18]\n",
      "Age 20\n",
      "[20, 20, 20]\n",
      "Age 19\n",
      "[19, 19, 19, 19, 19, 19, 19, 19, 19, 19, 19, 19, 19, 19, 19, 19, 19, 19, 19, 19, 19, 19, 19, 19]\n"
     ]
    }
   ],
   "source": [
    "#cluster Sampling \n",
    "df = pd.read_csv('student-data.csv', usecols =[\"age\"]);\n",
    "#print(data)\n",
    "names = df.age.tolist()\n",
    "c1 = []\n",
    "c2 = []\n",
    "c3 = [] \n",
    "for i in names:\n",
    "    if i ==  18:\n",
    "        c1.append(i)\n",
    "    elif i == 19:\n",
    "        c3.append(i)\n",
    "    elif i  == 20 :\n",
    "        c2.append(i)\n",
    "    else:\n",
    "        pass\n",
    "\n",
    "print(\"Age 18\")\n",
    "print(c1)\n",
    "print(\"Age 20\")\n",
    "print(c2)\n",
    "print(\"Age 19\")\n",
    "print(c3)\n",
    "\n"
   ]
  },
  {
   "cell_type": "code",
   "execution_count": 120,
   "metadata": {},
   "outputs": [],
   "source": [
    "#df = pd.read_csv('student-data.csv', usecols =[\"age\",\"school\"]);\n",
    "#print(df)\n",
    "#age = df.age.tolist()\n",
    "#school = df.school.tolist()\n",
    "#print(names[0])\n",
    "#print(school[0])\n"
   ]
  },
  {
   "cell_type": "code",
   "execution_count": 136,
   "metadata": {},
   "outputs": [
    {
     "name": "stdout",
     "output_type": "stream",
     "text": [
      "[20, 20, 20]\n"
     ]
    }
   ],
   "source": [
    "c = [c1,c2,c3]\n",
    "#print(c)\n",
    "print(random.choice(c))"
   ]
  },
  {
   "cell_type": "code",
   "execution_count": 137,
   "metadata": {},
   "outputs": [
    {
     "name": "stdout",
     "output_type": "stream",
     "text": [
      "[18, 18]\n",
      "[20, 20]\n",
      "[19, 19]\n"
     ]
    }
   ],
   "source": [
    "print(random.choices(c1,k=2))\n",
    "print(random.choices(c2,k=2))\n",
    "print(random.choices(c3,k=2))"
   ]
  },
  {
   "cell_type": "code",
   "execution_count": null,
   "metadata": {},
   "outputs": [],
   "source": []
  },
  {
   "cell_type": "code",
   "execution_count": null,
   "metadata": {},
   "outputs": [],
   "source": []
  }
 ],
 "metadata": {
  "kernelspec": {
   "display_name": "Python 3",
   "language": "python",
   "name": "python3"
  },
  "language_info": {
   "codemirror_mode": {
    "name": "ipython",
    "version": 3
   },
   "file_extension": ".py",
   "mimetype": "text/x-python",
   "name": "python",
   "nbconvert_exporter": "python",
   "pygments_lexer": "ipython3",
   "version": "3.7.1"
  }
 },
 "nbformat": 4,
 "nbformat_minor": 2
}
