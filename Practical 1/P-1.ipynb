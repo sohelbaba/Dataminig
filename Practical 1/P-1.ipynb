{
 "cells": [
  {
   "cell_type": "code",
   "execution_count": 12,
   "metadata": {},
   "outputs": [],
   "source": [
    "import numpy as np\n",
    "from scipy import stats\n",
    "t\n",
    "import matplotlib\n",
    "import matplotlib.pyplot as plt\n"
   ]
  },
  {
   "cell_type": "code",
   "execution_count": 32,
   "metadata": {},
   "outputs": [
    {
     "name": "stdout",
     "output_type": "stream",
     "text": [
      "1D Array filled with random values as per gaussian distribution : \n",
      " [8. 4. 4. 3. 7. 0. 8. 3. 6. 5. 8. 1. 4. 4. 7. 3. 5. 3. 5. 6. 3. 7. 7. 6.\n",
      " 7. 4. 5. 3. 4. 6. 4. 4. 4. 3. 4. 5. 3. 5. 8. 6. 5. 3. 4. 8. 5. 4. 5. 9.\n",
      " 5. 6. 6. 4. 3. 4. 5. 6. 7. 7. 6. 7. 3. 8. 6. 4. 6. 5. 7. 8. 9. 2. 2. 4.\n",
      " 5. 7. 6. 1. 4. 7. 5. 7. 5. 5. 5. 6. 5. 5. 4. 6. 5. 7. 7. 5. 4. 4. 6. 5.\n",
      " 4. 5. 4. 6.]\n"
     ]
    },
    {
     "data": {
      "image/png": "[encoded data removed]",
      "text/plain": [
       "<Figure size 432x288 with 1 Axes>"
      ]
     },
     "metadata": {},
     "output_type": "display_data"
    }
   ],
   "source": [
    "#%matplotlib is a magic function in IPython. ... \n",
    "#%matplotlib inline sets the backend of matplotlib to the 'inline' backend: \n",
    "#With this backend, the output of plotting commands is displayed \n",
    "#inline within frontends like the Jupyter notebook, directly below the code cell that produced it.\n",
    "%matplotlib inline\n",
    "matplotlib.style.use('ggplot')\n",
    "\n",
    "np.random.seed(1)\n",
    "\n",
    "#numpy.random.normal(loc = 0.0, scale = 1.0, size = None)\n",
    "#creates an array of specified shape and fills it with random values which is actually a part of Normal(Gaussian)Distribution. \n",
    "#This is Distribution is also known as Bell Curve because of its characteristics shape.\n",
    "#loc   : [float or array_like]Mean of the distribution. \n",
    "#scale : [float or array_like]Standard Derivation of the distribution. \n",
    "#size  : [int or int tuples]. \n",
    "#Round an array to the given number of decimals\n",
    "data = np.round(np.random.normal(5, 2, 100))\n",
    "#data=np.round(np.random.rand(100))\n",
    "\n",
    "print(\"1D Array filled with random values as per gaussian distribution : \\n\", data) \n",
    "\n",
    "plt.hist(data, bins=10, range=(0,10), edgecolor='black')\n",
    "plt.show()"
   ]
  },
  {
   "cell_type": "code",
   "execution_count": 33,
   "metadata": {},
   "outputs": [
    {
     "data": {
      "text/plain": [
       "5.1"
      ]
     },
     "execution_count": 33,
     "metadata": {},
     "output_type": "execute_result"
    }
   ],
   "source": [
    "#Our measures of central tendency include mean, median or mode\n",
    "#Simple or arithmetic average of a range of values or quantities, \n",
    "#computed by dividing the total of all values by the number of values. \n",
    "#For example, the mean of 1, 2, 3, 4, and 5 is (15 ÷ 5) = 3\n",
    "# for the values 1, 2, 4, 7\n",
    "#The mean is the usual average:\n",
    "#(1 + 2 + 4 + 7) ÷ 4 = 14 ÷ 4 = 3.5\n",
    "\n",
    "mean = np.mean(data)\n",
    "mean\n"
   ]
  },
  {
   "cell_type": "code",
   "execution_count": 34,
   "metadata": {},
   "outputs": [
    {
     "data": {
      "text/plain": [
       "5.0"
      ]
     },
     "execution_count": 34,
     "metadata": {},
     "output_type": "execute_result"
    }
   ],
   "source": [
    "#The median is the middle number. \n",
    "#In this example, the numbers are already listed in numerical order, \n",
    "#so I don't have to rewrite the list. But there is no \"middle\" number, \n",
    "#because there are an even number of numbers. \n",
    "#Because of this, the median of the list will be the mean (that is, the usual average) \n",
    "#of the middle two values within the list. The middle two numbers are 2 and 4, so:\n",
    "#(2 + 4) ÷ 2 = 6 ÷ 2 = 3\n",
    "\n",
    "\n",
    "np.median(data)"
   ]
  },
  {
   "cell_type": "code",
   "execution_count": 35,
   "metadata": {},
   "outputs": [
    {
     "name": "stdout",
     "output_type": "stream",
     "text": [
      "The modal value is 5.0 with a count of 23\n"
     ]
    }
   ],
   "source": [
    "#The mode is the number that is repeated most often,\n",
    "#but all the numbers in this list appear only once, so there is no mode.\n",
    "mode = stats.mode(data)\n",
    "\n",
    "print(\"The modal value is {} with a count of {}\".format(mode.mode[0], mode.count[0]))"
   ]
  },
  {
   "cell_type": "code",
   "execution_count": 36,
   "metadata": {},
   "outputs": [
    {
     "data": {
      "text/plain": [
       "9.0"
      ]
     },
     "execution_count": 36,
     "metadata": {},
     "output_type": "execute_result"
    }
   ],
   "source": [
    "#he largest value in the list is 7, the smallest is 1, and their difference is 6, so the range is 6.\n",
    "#The range gives a measure of how spread apart the values are.\n",
    "#The range is simply calculated as the maximum value – minimum value\n",
    "#poin to point function\n",
    "np.ptp(data)   "
   ]
  },
  {
   "cell_type": "code",
   "execution_count": 37,
   "metadata": {},
   "outputs": [
    {
     "data": {
      "text/plain": [
       "3.07"
      ]
     },
     "execution_count": 37,
     "metadata": {},
     "output_type": "execute_result"
    }
   ],
   "source": [
    "\n",
    "#Variance (σ2) in statistics is a measurement of the spread between numbers in a data set. \n",
    "#That is, it measures how far each number in the set is from the mean and therefore from every other number in the set.\n",
    "np.var(data)"
   ]
  },
  {
   "cell_type": "code",
   "execution_count": 38,
   "metadata": {},
   "outputs": [
    {
     "data": {
      "text/plain": [
       "1.752141546793523"
      ]
     },
     "execution_count": 38,
     "metadata": {},
     "output_type": "execute_result"
    }
   ],
   "source": [
    "#The standard deviation is a statistic that measures the dispersion of a dataset relative to its mean \n",
    "#and is calculated as the square root of the variance. \n",
    "#It is calculated as the square root of variance by determining the variation \n",
    "#between each data point relative to the mean. \n",
    "#If the data points are further from the mean, there is a higher deviation within the data set; \n",
    "#thus, the more spread out the data, the higher the standard deviation.\n",
    "\n",
    "np.std(data)"
   ]
  },
  {
   "cell_type": "code",
   "execution_count": 39,
   "metadata": {},
   "outputs": [
    {
     "data": {
      "text/plain": [
       "0.1760968512214259"
      ]
     },
     "execution_count": 39,
     "metadata": {},
     "output_type": "execute_result"
    }
   ],
   "source": [
    "#The standard error of the mean (SE of the mean) estimates the variability between sample means \n",
    "#that you would obtain if you took multiple samples from the same population. \n",
    "#The standard error of the mean estimates the variability between samples whereas \n",
    "#the standard deviation measures the variability within a single sample.\n",
    "stats.sem(data)"
   ]
  },
  {
   "cell_type": "code",
   "execution_count": null,
   "metadata": {},
   "outputs": [],
   "source": []
  }
 ],
 "metadata": {
  "kernelspec": {
   "display_name": "Python 3",
   "language": "python",
   "name": "python3"
  },
  "language_info": {
   "codemirror_mode": {
    "name": "ipython",
    "version": 3
   },
   "file_extension": ".py",
   "mimetype": "text/x-python",
   "name": "python",
   "nbconvert_exporter": "python",
   "pygments_lexer": "ipython3",
   "version": "3.6.5"
  }
 },
 "nbformat": 4,
 "nbformat_minor": 2
}
